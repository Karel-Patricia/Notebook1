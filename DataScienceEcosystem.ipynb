{
 "cells": [
  {
   "cell_type": "markdown",
   "id": "6a5e6c24-bc1e-413c-b3ed-c71cdc5a04f2",
   "metadata": {},
   "source": [
    "# Data Science Tools and Ecosystem"
   ]
  },
  {
   "cell_type": "markdown",
   "id": "4368443c-d174-4319-800f-5c8deba6b25a",
   "metadata": {},
   "source": [
    "In this notebook, Data Science Tools and Ecosystem are summarized."
   ]
  },
  {
   "cell_type": "markdown",
   "id": "a9d58582-777f-44f5-b44a-1725cf522c4a",
   "metadata": {},
   "source": [
    "__Objectives:__\n",
    "* List popular languages for Data Science.\n",
    "* List some of the most commonly used libraries.\n",
    "* List three open-source tools for development environments.\n",
    "* Show some examples of evaluating arithmetic expressions in Python."
   ]
  },
  {
   "cell_type": "markdown",
   "id": "74677c9a-6f41-4708-b963-a4c779461b39",
   "metadata": {},
   "source": [
    "Some of the popular languages that Data Scientists use are:\n",
    "1. Python\n",
    "2. R\n",
    "3. SQL\n",
    "4. Java C++\n"
   ]
  },
  {
   "cell_type": "markdown",
   "id": "86e49d08-4b4d-4572-b291-a89b52f49a14",
   "metadata": {},
   "source": [
    "Some of the commonly used libraries used by Data Scientists include:\n",
    "1. Pandas\n",
    "2. Numpy\n",
    "3. MapPlotLib\n",
    "4. Seaborn"
   ]
  },
  {
   "cell_type": "markdown",
   "id": "5451bdeb-bb60-4ede-a6eb-13c55d120a50",
   "metadata": {},
   "source": [
    "Data Science Tools |\n",
    "--------|\n",
    "Jupyter Notebook |\n",
    "RStudio |\n",
    "Spyder |"
   ]
  },
  {
   "cell_type": "markdown",
   "id": "7186490b-bead-4b9a-83df-ded8fcafe28a",
   "metadata": {},
   "source": [
    "### Below are a few examples of evaluating arithmetic expressions in Python.\n",
    "\n",
    "- `3 + 5`  →  **8**\n",
    "- `10 - 4` →  **6**\n",
    "- `7 * 2`  →  **14**\n",
    "- `20 / 5` →  **4.0**\n",
    "- `2 ** 3` →  **8**  (potencia)"
   ]
  },
  {
   "cell_type": "code",
   "execution_count": 5,
   "id": "0ea82a9f-3872-4e06-bdd9-39d375dcef83",
   "metadata": {},
   "outputs": [
    {
     "data": {
      "text/plain": [
       "17"
      ]
     },
     "execution_count": 5,
     "metadata": {},
     "output_type": "execute_result"
    }
   ],
   "source": [
    "# This a simple arithmetic expression to mutiply then add integers\n",
    "(3 * 4) + 5"
   ]
  },
  {
   "cell_type": "code",
   "execution_count": 9,
   "id": "b0744df4-7ffb-4821-900b-fc8370c6efc6",
   "metadata": {},
   "outputs": [
    {
     "name": "stdout",
     "output_type": "stream",
     "text": [
      "There are 3.3333333333333335 hours in 200 minutes\n"
     ]
    }
   ],
   "source": [
    "# This will convert 200 minutes to hours by diving by 60\n",
    "minutes = 200\n",
    "hours = minutes / 60 \n",
    "print(\"There are\", hours, \"hours in\", minutes,\"minutes\")  "
   ]
  },
  {
   "cell_type": "markdown",
   "id": "c256556a-2259-44a2-bdcf-0af649224a2c",
   "metadata": {},
   "source": [
    "## Author\n",
    "Patricia Paredes"
   ]
  }
 ],
 "metadata": {
  "kernelspec": {
   "display_name": "Python 3 (ipykernel)",
   "language": "python",
   "name": "python3"
  },
  "language_info": {
   "codemirror_mode": {
    "name": "ipython",
    "version": 3
   },
   "file_extension": ".py",
   "mimetype": "text/x-python",
   "name": "python",
   "nbconvert_exporter": "python",
   "pygments_lexer": "ipython3",
   "version": "3.13.5"
  }
 },
 "nbformat": 4,
 "nbformat_minor": 5
}
